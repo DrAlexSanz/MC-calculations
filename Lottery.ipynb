{
  "nbformat": 4,
  "nbformat_minor": 0,
  "metadata": {
    "colab": {
      "provenance": [],
      "authorship_tag": "ABX9TyOXi8PXwGDCdwjKcKj5woEP",
      "include_colab_link": true
    },
    "kernelspec": {
      "name": "python3",
      "display_name": "Python 3"
    },
    "language_info": {
      "name": "python"
    }
  },
  "cells": [
    {
      "cell_type": "markdown",
      "metadata": {
        "id": "view-in-github",
        "colab_type": "text"
      },
      "source": [
        "<a href=\"https://colab.research.google.com/github/DrAlexSanz/MC-calculations/blob/main/Lottery.ipynb\" target=\"_parent\"><img src=\"https://colab.research.google.com/assets/colab-badge.svg\" alt=\"Open In Colab\"/></a>"
      ]
    },
    {
      "cell_type": "markdown",
      "source": [
        "# Estimate the probability of winning the lottery\n",
        "### Or at least estimate the probability of winning something in the lottery\n",
        "\n",
        "First calculate the expectancy. And later do a simulation to see if it holds."
      ],
      "metadata": {
        "id": "ZYOhVZpBVCBK"
      }
    },
    {
      "cell_type": "markdown",
      "source": [
        "## Lottery = Lotería de Navidad.\n",
        "\n",
        "I'm doing this analysis based on tenths of numbers, which is what everyone buys. Source is in Wikipedia: [Lotería de Navidad](https://es.wikipedia.org/wiki/Sorteo_Extraordinario_de_Navidad#Premios)\n",
        "\n",
        "\n",
        "\n",
        "The mathematical expectation is 14 euros. Considering that you pay 20 euros to play, that's not a good game for you. Calculations are here: [Expected win](https://github.com/DrAlexSanz/MC-calculations/blob/main/expectation.xlsx)"
      ],
      "metadata": {
        "id": "fThhFOP2Voww"
      }
    },
    {
      "cell_type": "markdown",
      "source": [
        "Now, let's check this. If I generate a thousand or a million lottery draws I should be able to reproduce the results and keep track of the gains.\n",
        "\n",
        "* I will always play the same number, because many people do and I save a random generation.\n",
        "* I will generate a random number to calculate the prizes that I get and see the accumulated value."
      ],
      "metadata": {
        "id": "uli1y5e_qsVk"
      }
    },
    {
      "cell_type": "code",
      "execution_count": 1,
      "metadata": {
        "id": "IAO_VwEcVAWc"
      },
      "outputs": [],
      "source": [
        "import numpy as np\n",
        "import pandas as pd\n",
        "\n",
        "from random import randint\n",
        "from random import seed # To reproduce later\n"
      ]
    },
    {
      "cell_type": "code",
      "source": [
        "# Check that I can generate random numbers\n",
        "seed(13)\n",
        "print(randint(0, 99999), randint(0, 99999), randint(0, 99999), randint(0, 99999))"
      ],
      "metadata": {
        "id": "o3qgOlbLrrdv",
        "outputId": "03a36e1c-91fc-4db4-866e-166cc21f5f1d",
        "colab": {
          "base_uri": "https://localhost:8080/"
        }
      },
      "execution_count": 4,
      "outputs": [
        {
          "output_type": "stream",
          "name": "stdout",
          "text": [
            "33948 38110 89818 89663\n"
          ]
        }
      ]
    },
    {
      "cell_type": "code",
      "source": [
        "my_number = 17069 # This is 13*1313"
      ],
      "metadata": {
        "id": "IEUA7H1TsJD2"
      },
      "execution_count": 8,
      "outputs": []
    },
    {
      "cell_type": "code",
      "source": [
        "# Do the loop of 1000 lottery draws (10 for speed)\n",
        "# Then compare my number and see if I win anything.\n",
        "\n",
        "n_draws = 10\n",
        "win = []\n",
        "spent = 20 * n_draws\n",
        "\n",
        "for i in range(n_draws):\n",
        "    gordo = randint(0, 99999)\n",
        "    second = randint(0, 99999)\n",
        "    third = randint(0, 99999)\n",
        "    fourth = [randint(0, 99999) for k in range(2)] # do the multiple prizes as lists\n",
        "    fifth = [randint(0, 99999) for k in range(8)]\n",
        "    pedrea = [randint(0, 99999) for k in range(1794)]\n",
        "\n",
        "    # And now the special prizes: Next numbers to the main prizes\n",
        "    app_gordo = [randint(0, 99999) for k in range(2)] # Gordo +/-1\n",
        "    app_second = [randint(0, 99999) for k in range(2)] # Second +/-1\n",
        "    app_third = [randint(0, 99999) for k in range(2)] # Third +/-1\n",
        "\n",
        "    # Matching the first 3 digits of main prizes\n",
        "    hundredth_gordo = [randint(0, 99999) for k in range(99)] # First 3 digits of Gordo\n",
        "    hundredth_second = [randint(0, 99999) for k in range(99)] # First 3 digits of Second\n",
        "    hundredth_third = [randint(0, 99999) for k in range(99)] # First 3 digits of Third\n",
        "    hundredth_fourth = [randint(0, 99999) for k in range(198)] # First 3 digits of the two fourth prizes\n",
        "\n",
        "    # Matching the last 2 digits of main prizes\n",
        "    l2_gordo = [randint(0, 99999) for k in range(999)] # Last 2 digits of Gordo\n",
        "    l2_second = [randint(0, 99999) for k in range(999)] # Last 2 digits of Second\n",
        "    l2_third = [randint(0, 99999) for k in range(999)] # Last 2 digits of Third\n",
        "\n",
        "    # Reintegro: Money back if you match the last digit of the Gordo\n",
        "    reintegro = [randint(0, 99999) for k in range(9999)] # Last digit of Gordo"
      ],
      "metadata": {
        "id": "DoTkeILds0bm"
      },
      "execution_count": 19,
      "outputs": []
    },
    {
      "cell_type": "markdown",
      "source": [],
      "metadata": {
        "id": "coE_SyakwcRp"
      }
    }
  ]
}