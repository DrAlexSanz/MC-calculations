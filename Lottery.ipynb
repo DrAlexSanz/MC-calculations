{
  "nbformat": 4,
  "nbformat_minor": 0,
  "metadata": {
    "colab": {
      "provenance": [],
      "authorship_tag": "ABX9TyO36QEymPTkubjG1cU05NM+",
      "include_colab_link": true
    },
    "kernelspec": {
      "name": "python3",
      "display_name": "Python 3"
    },
    "language_info": {
      "name": "python"
    }
  },
  "cells": [
    {
      "cell_type": "markdown",
      "metadata": {
        "id": "view-in-github",
        "colab_type": "text"
      },
      "source": [
        "<a href=\"https://colab.research.google.com/github/DrAlexSanz/MC-calculations/blob/main/Lottery.ipynb\" target=\"_parent\"><img src=\"https://colab.research.google.com/assets/colab-badge.svg\" alt=\"Open In Colab\"/></a>"
      ]
    },
    {
      "cell_type": "markdown",
      "source": [
        "# Estimate the probability of winning the lottery\n",
        "### Or at least estimate the probability of winning something in the lottery\n",
        "\n",
        "First calculate the expectancy. And later do a simulation to see if it holds."
      ],
      "metadata": {
        "id": "ZYOhVZpBVCBK"
      }
    },
    {
      "cell_type": "markdown",
      "source": [
        "## Lottery = Lotería de Navidad.\n",
        "* 5 digits, 180 series per number and each number is divided in tenths.\n",
        "* One tenth costs 20 euros.\n",
        "* First prize is 4M. So a tenth gets 400K."
      ],
      "metadata": {
        "id": "fThhFOP2Voww"
      }
    },
    {
      "cell_type": "code",
      "execution_count": null,
      "metadata": {
        "id": "IAO_VwEcVAWc"
      },
      "outputs": [],
      "source": []
    }
  ]
}