{
  "nbformat": 4,
  "nbformat_minor": 0,
  "metadata": {
    "colab": {
      "provenance": [],
      "authorship_tag": "ABX9TyPUn0qK1l1SZJJn3Sl/QEi8",
      "include_colab_link": true
    },
    "kernelspec": {
      "name": "python3",
      "display_name": "Python 3"
    },
    "language_info": {
      "name": "python"
    }
  },
  "cells": [
    {
      "cell_type": "markdown",
      "metadata": {
        "id": "view-in-github",
        "colab_type": "text"
      },
      "source": [
        "<a href=\"https://colab.research.google.com/github/DrAlexSanz/MC-calculations/blob/main/Lottery.ipynb\" target=\"_parent\"><img src=\"https://colab.research.google.com/assets/colab-badge.svg\" alt=\"Open In Colab\"/></a>"
      ]
    },
    {
      "cell_type": "markdown",
      "source": [
        "# Estimate the probability of winning the lottery\n",
        "### Or at least estimate the probability of winning something in the lottery\n",
        "\n",
        "First calculate the expectancy. And later do a simulation to see if it holds."
      ],
      "metadata": {
        "id": "ZYOhVZpBVCBK"
      }
    },
    {
      "cell_type": "markdown",
      "source": [
        "## Lottery = Lotería de Navidad.\n",
        "\n",
        "I'm doing this analysis based on tenths of numbers, which is what everyone buys. Source is in Wikipedia: [Lotería de Navidad](https://es.wikipedia.org/wiki/Sorteo_Extraordinario_de_Navidad#Premios)\n",
        "\n",
        "\n",
        "\n",
        "The mathematical expectation is 14 euros. Considering that you pay 20 euros to play, that's not a good game for you. Calculations are here: [Expected win](https://github.com/DrAlexSanz/MC-calculations/blob/main/expectation.xlsx)"
      ],
      "metadata": {
        "id": "fThhFOP2Voww"
      }
    },
    {
      "cell_type": "markdown",
      "source": [
        "Now, let's check this. If I generate a thousand or a million lottery draws I should be able to reproduce the results and keep track of the gains.\n",
        "\n",
        "* I will always play the same number, because many people do and I save a random generation.\n",
        "* I will generate a random number to calculate the prizes that I get and see the accumulated value."
      ],
      "metadata": {
        "id": "uli1y5e_qsVk"
      }
    },
    {
      "cell_type": "code",
      "execution_count": 96,
      "metadata": {
        "id": "IAO_VwEcVAWc"
      },
      "outputs": [],
      "source": [
        "import numpy as np\n",
        "import pandas as pd\n",
        "import matplotlib.pyplot as plt\n",
        "from random import randint\n",
        "from random import seed # To reproduce later\n"
      ]
    },
    {
      "cell_type": "code",
      "source": [
        "# Check that I can generate random numbers\n",
        "seed(13)\n",
        "print(randint(0, 99999), randint(0, 99999), randint(0, 99999), randint(0, 99999))"
      ],
      "metadata": {
        "id": "o3qgOlbLrrdv",
        "outputId": "5f8c103b-21ad-475d-b6b4-8abf5a1b0e31",
        "colab": {
          "base_uri": "https://localhost:8080/"
        }
      },
      "execution_count": 2,
      "outputs": [
        {
          "output_type": "stream",
          "name": "stdout",
          "text": [
            "33948 38110 89818 89663\n"
          ]
        }
      ]
    },
    {
      "cell_type": "code",
      "source": [
        "my_number = 17069 # This is 13*1313"
      ],
      "metadata": {
        "id": "IEUA7H1TsJD2"
      },
      "execution_count": 3,
      "outputs": []
    },
    {
      "cell_type": "code",
      "source": [
        "# Do the loop of 1000 lottery draws (10 for speed)\n",
        "# Then compare my number and see if I win anything.\n",
        "\n",
        "n_draws = 100\n",
        "earnings = np.zeros(n_draws)\n",
        "ticket_price = 20\n",
        "\n",
        "array_spent = np.full_like(a = earnings, fill_value = ticket_price)\n",
        "\n",
        "list_k = []\n",
        "\n",
        "for i in range(n_draws):\n",
        "    gordo = randint(0, 99999)\n",
        "    second = randint(0, 99999)\n",
        "    third = randint(0, 99999)\n",
        "    fourth = [randint(0, 99999) for k in range(2)] # do the multiple prizes as lists\n",
        "    fifth = [randint(0, 99999) for k in range(8)]\n",
        "    pedrea = [randint(0, 99999) for k in range(1794)]\n",
        "\n",
        "    # And now the special prizes: Next numbers to the main prizes\n",
        "    app_gordo = [gordo - 1, gordo + 1] # Gordo +/-1\n",
        "    app_second = [second - 1, second + 1] # Second +/-1\n",
        "    app_third = [third - 1, third + 1] # Third +/-1\n",
        "\n",
        "    # Matching the first 3 digits of main prizes\n",
        "    last_2_dig = [str(x) for x in range(100)]\n",
        "    first_3_dig_gordo = str(gordo // 100)\n",
        "    first_3_dig_second = str(second // 100)\n",
        "    first_3_dig_third = str(third // 100)\n",
        "    first_3_dig_fourth = [str(x // 100) for x in fourth]\n",
        "\n",
        "    hundredth_gordo = [first_3_dig_gordo + x for x in last_2_dig]\n",
        "    # At this moment I don't care if I repeat a prize (gordo + hundredth of gordo) because the amount is negligible compared to the gordo.\n",
        "    # According to wikipedia it seems like you can win more than a prize with the same number. So reintegro + gordo or something is possible. I will assume that it's possible.\n",
        "    # However, this overestimates my earnings if I win something\n",
        "\n",
        "    #hundredth_gordo = [x for x in hundredth_gordo if x not in gordo]\n",
        "\n",
        "\n",
        "    hundredth_second = [int(first_3_dig_second + x) for x in last_2_dig]\n",
        "    \n",
        "    hundredth_third = [int(first_3_dig_third + x) for x in last_2_dig]\n",
        "\n",
        "    # There are 2 fourth prizes so I have to do it in a list\n",
        "    for j in first_3_dig_fourth:\n",
        "        list_k.append([int(j + x) for x in last_2_dig])\n",
        "\n",
        "    hundredth_fourth = list(np.concatenate(list_k))\n",
        "    list_k = [] # Clean after concatenating\n",
        "\n",
        "    first_3_dig = [str(x) for x in range(1000)]\n",
        "    first_3_dig_gordo = str(gordo // 100)\n",
        "    first_3_dig_second = str(second // 100)\n",
        "    first_3_dig_third = str(third // 100)\n",
        "    first_3_dig_fourth = [str(x // 100) for x in fourth]\n",
        "\n",
        "    # Matching the last 2 digits of main prizes\n",
        "    #l2_gordo = [randint(0, 99999) for k in range(999)] # Last 2 digits of Gordo\n",
        "    l2_second = [randint(0, 99999) for k in range(999)] # Last 2 digits of Second\n",
        "    l2_third = [randint(0, 99999) for k in range(999)] # Last 2 digits of Third\n",
        "\n",
        "    # Reintegro: Money back if you match the last digit of the Gordo\n",
        "    reintegro = [randint(0, 99999) for k in range(9999)] # Last digit of Gordo\n",
        "\n",
        "    if my_number == gordo:\n",
        "        earnings[i] = 400000 # Win the gordo\n",
        "    \n",
        "    if my_number == second:\n",
        "        earnings[i] = 125000 # Win the second\n",
        "\n",
        "    if my_number == third:\n",
        "        earnings[i] = 50000 # Win the third\n",
        "\n",
        "    # I won't bother with a function to do the comparison with minor prizes. It's more work than copy/paste for this.\n",
        "    if any(my_number == x for x in fourth): # Compare with each of the drawn numbers for the fourth prize\n",
        "        earnings[i] = 20000\n",
        "\n",
        "    if any(my_number == x for x in fifth):\n",
        "        earnings[i] = 6000\n",
        "\n",
        "    if any(my_number == x for x in pedrea):\n",
        "        earnings[i] = 100\n",
        "\n",
        "    if any(my_number == x for x in app_gordo):\n",
        "        earnings[i] = 2000\n",
        "\n",
        "    if any(my_number == x for x in app_second):\n",
        "        earnings[i] = 1250\n",
        "\n",
        "    if any(my_number == x for x in app_third):\n",
        "        earnings[i] = 960\n",
        "\n",
        "    if any(my_number == x for x in hundredth_gordo):\n",
        "        earnings[i] = 100\n",
        "\n",
        "    if any(my_number == x for x in hundredth_second):\n",
        "        earnings[i] = 100\n",
        "\n",
        "    if any(my_number == x for x in hundredth_third):\n",
        "        earnings[i] = 100\n",
        "\n",
        "    if any(my_number == x for x in hundredth_fourth):\n",
        "        earnings[i] = 100\n",
        "\n",
        "    if any(my_number == x for x in l2_gordo):\n",
        "        earnings[i] = 100\n",
        "\n",
        "    if any(my_number == x for x in l2_second):\n",
        "        earnings[i] = 100\n",
        "\n",
        "    if any(my_number == x for x in l2_third):\n",
        "        earnings[i] = 100\n",
        "\n",
        "    if any(my_number == x for x in reintegro):\n",
        "        earnings[i] = 20"
      ],
      "metadata": {
        "id": "DoTkeILds0bm"
      },
      "execution_count": 120,
      "outputs": []
    },
    {
      "cell_type": "code",
      "source": [
        "run_earnings = np.cumsum(earnings)\n",
        "run_spent = np.cumsum(array_spent)\n",
        "total_spent = np.sum(array_spent)\n",
        "total_earnings = np.sum(earnings)\n",
        "\n",
        "print(\"Total money spent is: \", int(total_spent))\n",
        "print(\"Total earnings are: \", int(total_earnings))"
      ],
      "metadata": {
        "id": "spPxJ2lVTcwt",
        "outputId": "6d86807c-c4ce-4458-d9af-fd560494154e",
        "colab": {
          "base_uri": "https://localhost:8080/"
        }
      },
      "execution_count": 121,
      "outputs": [
        {
          "output_type": "stream",
          "name": "stdout",
          "text": [
            "Total money spent is:  2000\n",
            "Total earnings are:  420\n"
          ]
        }
      ]
    },
    {
      "cell_type": "code",
      "source": [
        "fig = plt.figure(figsize = (13, 13))\n",
        "\n",
        "plt.plot(run_earnings)\n",
        "plt.plot(run_spent)\n",
        "plt.xlim((0, len(run_earnings)))\n",
        "plt.ylim((0, np.max(run_spent)))\n",
        "plt.title(\"Money won and spent in lottery over time\")\n",
        "plt.ylabel(\"Euros\")\n",
        "plt.xlabel(\"Years played\")\n",
        "plt.legend([\"Cumulative earnings\", \"Cumulative spent\"])\n"
      ],
      "metadata": {
        "id": "cI3lDM8NUwrg",
        "outputId": "6d0adf2c-ebbb-4ac9-98a7-bba815bde6e3",
        "colab": {
          "base_uri": "https://localhost:8080/",
          "height": 802
        }
      },
      "execution_count": 122,
      "outputs": [
        {
          "output_type": "execute_result",
          "data": {
            "text/plain": [
              "<matplotlib.legend.Legend at 0x7f3ce7a209a0>"
            ]
          },
          "metadata": {},
          "execution_count": 122
        },
        {
          "output_type": "display_data",
          "data": {
            "text/plain": [
              "<Figure size 936x936 with 1 Axes>"
            ],
            "image/png": "[encoded data removed]"
          },
          "metadata": {
            "needs_background": "light"
          }
        }
      ]
    }
  ]
}