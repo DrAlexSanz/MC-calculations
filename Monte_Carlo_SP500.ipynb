{
  "nbformat": 4,
  "nbformat_minor": 0,
  "metadata": {
    "colab": {
      "name": "Monte Carlo SP500.ipynb",
      "provenance": [],
      "authorship_tag": "ABX9TyMRUfjo5qyASdi5H887ja8u",
      "include_colab_link": true
    },
    "kernelspec": {
      "name": "python3",
      "display_name": "Python 3"
    },
    "language_info": {
      "name": "python"
    }
  },
  "cells": [
    {
      "cell_type": "markdown",
      "metadata": {
        "id": "view-in-github",
        "colab_type": "text"
      },
      "source": [
        "<a href=\"https://colab.research.google.com/github/DrAlexSanz/MC-calculations/blob/main/Monte_Carlo_SP500.ipynb\" target=\"_parent\"><img src=\"https://colab.research.google.com/assets/colab-badge.svg\" alt=\"Open In Colab\"/></a>"
      ]
    },
    {
      "cell_type": "code",
      "metadata": {
        "id": "yg4K7egvxnNa"
      },
      "source": [
        "import numpy as np\n",
        "import pandas as pd\n",
        "pd.plotting.register_matplotlib_converters()\n",
        "from pandas_datareader import data as wb\n",
        "import seaborn as sns\n",
        "import matplotlib.pyplot as plt\n",
        "from scipy.stats import norm\n",
        "\n"
      ],
      "execution_count": 32,
      "outputs": []
    },
    {
      "cell_type": "markdown",
      "metadata": {
        "id": "k-8YVT3EzAiX"
      },
      "source": [
        "# Download SP500 data \n",
        "\n",
        "First of all, download all the data since 1980. It goes back to 1927 or so but I'll restrict it to 1980. Maybe I'll do a run with the full data later."
      ]
    },
    {
      "cell_type": "code",
      "metadata": {
        "colab": {
          "base_uri": "https://localhost:8080/"
        },
        "id": "6InGkyFwy9c3",
        "outputId": "902f41f3-2e1f-4f68-a070-878f28734cd3"
      },
      "source": [
        "data = pd.DataFrame()\n",
        "\n",
        "ticker = \"^GSPC\" #This is the ticker of the SP500 according to Yahoo Finance.\n",
        "start_dt = \"1980-01-01\"\n",
        "end_dt = \"2020-12-31\"\n",
        "\n",
        "data = wb.DataReader(ticker, start = start_dt, end = end_dt, data_source = \"yahoo\") #The date is the index\n",
        "\n",
        "# Now I have the full data, let's keep the adjusted close and see the time limits\n",
        "data = data[[\"Adj Close\"]]\n",
        "\n",
        "data.reset_index(inplace = True) # I don't like to have the date as an index, I want normal index and date as a column\n",
        "print(data.head())\n"
      ],
      "execution_count": 33,
      "outputs": [
        {
          "output_type": "stream",
          "text": [
            "        Date   Adj Close\n",
            "0 1980-01-02  105.760002\n",
            "1 1980-01-03  105.220001\n",
            "2 1980-01-04  106.519997\n",
            "3 1980-01-07  106.809998\n",
            "4 1980-01-08  108.949997\n"
          ],
          "name": "stdout"
        }
      ]
    },
    {
      "cell_type": "code",
      "metadata": {
        "colab": {
          "base_uri": "https://localhost:8080/",
          "height": 428
        },
        "id": "y_wROTw_xr24",
        "outputId": "008a7aed-92e1-4e60-8eda-31427fdfc1f6"
      },
      "source": [
        "plt.figure(figsize = (13, 7))\n",
        "plt.plot(data[\"Date\"], data[\"Adj Close\"])\n",
        "plt.show()"
      ],
      "execution_count": 34,
      "outputs": [
        {
          "output_type": "display_data",
          "data": {
            "image/png": "[encoded data removed]",
            "text/plain": [
              "<Figure size 936x504 with 1 Axes>"
            ]
          },
          "metadata": {
            "tags": [],
            "needs_background": "light"
          }
        }
      ]
    },
    {
      "cell_type": "markdown",
      "metadata": {
        "id": "koT3DQRpz9yf"
      },
      "source": [
        "With this I can calculate the CAGR manually, see what happened.\n",
        "\n",
        "The formula is:\n",
        "\n",
        "$$\n",
        "  C = C_0 \\cdot (1 + x)^n\n",
        "$$\n",
        "\n",
        "And I solve for x when n is 40 periods (1980 to 2020). It should be close to 8-10%"
      ]
    },
    {
      "cell_type": "code",
      "metadata": {
        "colab": {
          "base_uri": "https://localhost:8080/"
        },
        "id": "vCj6eA_C0aUf",
        "outputId": "fdcec8ea-43ee-4dcd-fd0b-ee0279091523"
      },
      "source": [
        "C_0 = data.iloc[1][\"Adj Close\"]\n",
        "C = data.iloc[-1][\"Adj Close\"]\n",
        "\n",
        "x = (C/C_0)**(1/40) - 1\n",
        "\n",
        "print(round(x, 2))"
      ],
      "execution_count": 35,
      "outputs": [
        {
          "output_type": "stream",
          "text": [
            "0.09\n"
          ],
          "name": "stdout"
        }
      ]
    },
    {
      "cell_type": "markdown",
      "metadata": {
        "id": "nka9oFXv3hQI"
      },
      "source": [
        "And it is 9% without taking inflation into account. Not bad!"
      ]
    },
    {
      "cell_type": "markdown",
      "metadata": {
        "id": "XYaD2bWE3mbr"
      },
      "source": [
        "## Now what I want to do is to start the Montecarlo part.\n",
        "\n",
        "I am going to do it using daily returns and iterating daily. I will do the yearly version later."
      ]
    },
    {
      "cell_type": "code",
      "metadata": {
        "colab": {
          "base_uri": "https://localhost:8080/"
        },
        "id": "M2TEGuXK30y1",
        "outputId": "b98b7e31-fc99-4664-a6dd-9af9e8cd3aed"
      },
      "source": [
        "day_return = data[\"Adj Close\"].pct_change() # And this is a Series\n",
        "\n",
        "day_return # Obviously the first one is NaN. There is no % growth before the first day."
      ],
      "execution_count": 36,
      "outputs": [
        {
          "output_type": "execute_result",
          "data": {
            "text/plain": [
              "0             NaN\n",
              "1       -0.005106\n",
              "2        0.012355\n",
              "3        0.002723\n",
              "4        0.020036\n",
              "           ...   \n",
              "10335    0.003537\n",
              "10336    0.008723\n",
              "10337   -0.002227\n",
              "10338    0.001342\n",
              "10339    0.006439\n",
              "Name: Adj Close, Length: 10340, dtype: float64"
            ]
          },
          "metadata": {
            "tags": []
          },
          "execution_count": 36
        }
      ]
    },
    {
      "cell_type": "markdown",
      "metadata": {
        "id": "fgHqRbA-8sp5"
      },
      "source": [
        "First, let's check the basic info and see if I have nulls"
      ]
    },
    {
      "cell_type": "code",
      "metadata": {
        "colab": {
          "base_uri": "https://localhost:8080/"
        },
        "id": "25-ZSHVH8wmI",
        "outputId": "36051541-4cf1-4c60-8112-21b29ea1474c"
      },
      "source": [
        "day_return.describe()"
      ],
      "execution_count": 37,
      "outputs": [
        {
          "output_type": "execute_result",
          "data": {
            "text/plain": [
              "count    10339.000000\n",
              "mean         0.000410\n",
              "std          0.011313\n",
              "min         -0.204669\n",
              "25%         -0.004496\n",
              "50%          0.000575\n",
              "75%          0.005689\n",
              "max          0.115800\n",
              "Name: Adj Close, dtype: float64"
            ]
          },
          "metadata": {
            "tags": []
          },
          "execution_count": 37
        }
      ]
    },
    {
      "cell_type": "code",
      "metadata": {
        "colab": {
          "base_uri": "https://localhost:8080/"
        },
        "id": "3e8JBxS58zAW",
        "outputId": "9e8e1c63-fd60-4e8f-b3b4-ae3e2851cd40"
      },
      "source": [
        "#Looks like I have Nulls\n",
        "\n",
        "print(np.isnan(day_return).value_counts())\n",
        "day_return = day_return.dropna()"
      ],
      "execution_count": 38,
      "outputs": [
        {
          "output_type": "stream",
          "text": [
            "False    10339\n",
            "True         1\n",
            "Name: Adj Close, dtype: int64\n"
          ],
          "name": "stdout"
        }
      ]
    },
    {
      "cell_type": "code",
      "metadata": {
        "colab": {
          "base_uri": "https://localhost:8080/",
          "height": 638
        },
        "id": "cFvqKwLq7ZyT",
        "outputId": "ce676b98-2091-464b-8bbc-8c1e04714a37"
      },
      "source": [
        "#mu, std = norm.fit(day_return)\n",
        "\n",
        "#print(\"The daily returns follow a Normal distribution with \\mu = {mu:.3f} and standard deviation = {std:.3f}\")\n",
        "\n",
        "plt.figure(figsize = (10, 10))\n",
        "sns.histplot(day_return, color = \"green\", alpha = 0.5)\n",
        "plt.xlabel(\"Daily return\")\n",
        "plt.ylabel(\"Count\")\n",
        "plt.title(\"Distribution of daily returns\") # Being more than 10,000 days I expect a fairly Normal distribution"
      ],
      "execution_count": 39,
      "outputs": [
        {
          "output_type": "execute_result",
          "data": {
            "text/plain": [
              "Text(0.5, 1.0, 'Distribution of daily returns')"
            ]
          },
          "metadata": {
            "tags": []
          },
          "execution_count": 39
        },
        {
          "output_type": "display_data",
          "data": {
            "image/png": "[encoded data removed]",
            "text/plain": [
              "<Figure size 720x720 with 1 Axes>"
            ]
          },
          "metadata": {
            "tags": [],
            "needs_background": "light"
          }
        }
      ]
    },
    {
      "cell_type": "markdown",
      "metadata": {
        "id": "rwwE3bVXAl9l"
      },
      "source": [
        "I can fit it to a Normal distribution because now sns.histplot doesn't do it."
      ]
    },
    {
      "cell_type": "code",
      "metadata": {
        "colab": {
          "base_uri": "https://localhost:8080/"
        },
        "id": "Uv3LceL_8Vd1",
        "outputId": "96d32da6-08ca-447d-9989-e931548cb0d4"
      },
      "source": [
        "mu, std = norm.fit(day_return)\n",
        "print(mu, std)"
      ],
      "execution_count": 40,
      "outputs": [
        {
          "output_type": "stream",
          "text": [
            "0.00040976599455143863 0.01131231818950601\n"
          ],
          "name": "stdout"
        }
      ]
    },
    {
      "cell_type": "markdown",
      "metadata": {
        "id": "IWzk4pQSAsQ-"
      },
      "source": [
        "The daily returns will have a small average and a std fairly larger. It's not usual to have a big daily return, yearly it's compounding but not every day."
      ]
    },
    {
      "cell_type": "markdown",
      "metadata": {
        "id": "O0WuIVR7CYBy"
      },
      "source": [
        "## Log returns.\n",
        "\n",
        "I don't want to use returns in general, but mostly the log of the returns. According to literature this is a good idea for several reasons. See [Explanation of why log returns.](https://quantivity.wordpress.com/2011/02/21/why-log-returns/)\n",
        "\n",
        "Especially I want to use log(1 + x) because it's normal and fulfills all the assumptions."
      ]
    },
    {
      "cell_type": "code",
      "metadata": {
        "colab": {
          "base_uri": "https://localhost:8080/",
          "height": 638
        },
        "id": "6mgx1P0cC5jK",
        "outputId": "fc3d7a89-ed34-419c-895b-f1ad29df28eb"
      },
      "source": [
        "log_ret = np.log(1 + day_return)\n",
        "\n",
        "plt.figure(figsize = (10, 10))\n",
        "sns.histplot(log_ret, color = \"green\", alpha = 0.5)\n",
        "plt.xlabel(\"Daily return\")\n",
        "plt.ylabel(\"Count\")\n",
        "plt.title(\"Distribution of daily returns\") # Being more than 10,000 days I expect a fairly Normal distribution"
      ],
      "execution_count": 41,
      "outputs": [
        {
          "output_type": "execute_result",
          "data": {
            "text/plain": [
              "Text(0.5, 1.0, 'Distribution of daily returns')"
            ]
          },
          "metadata": {
            "tags": []
          },
          "execution_count": 41
        },
        {
          "output_type": "display_data",
          "data": {
            "image/png": "[encoded data removed]",
            "text/plain": [
              "<Figure size 720x720 with 1 Axes>"
            ]
          },
          "metadata": {
            "tags": [],
            "needs_background": "light"
          }
        }
      ]
    },
    {
      "cell_type": "markdown",
      "metadata": {
        "id": "GrL1tjFADW9G"
      },
      "source": [
        "So the plot looks the same but how about the $\\mu$ and $\\sigma$?\n",
        "\n",
        "They will be the same because of the following sorcery:\n",
        "\n",
        "$$ln(1 + x) \\approx x; \\space \\forall x << 1$$\n",
        "\n",
        "This is the Taylor (MacLaurin) series:\n",
        "\n",
        "$$ln(1 + x) = x - \\frac{x^2}{2} + \\frac{x^3}{3} - \\frac{x^4}{4} + ...$$\n",
        "\n",
        "And I can neglect the higher order terms. When I'm doing the daily returns it doesn't really matter but when I will do the yearly version it will."
      ]
    },
    {
      "cell_type": "code",
      "metadata": {
        "colab": {
          "base_uri": "https://localhost:8080/"
        },
        "id": "LjFYKisSDIek",
        "outputId": "4017d006-92e4-4322-d6a4-8906c165b8c7"
      },
      "source": [
        "mu_log, std_log = norm.fit(day_return)\n",
        "print(mu_log, std_log)"
      ],
      "execution_count": 42,
      "outputs": [
        {
          "output_type": "stream",
          "text": [
            "0.00040976599455143863 0.01131231818950601\n"
          ],
          "name": "stdout"
        }
      ]
    },
    {
      "cell_type": "markdown",
      "metadata": {
        "id": "NefmOVfUD57m"
      },
      "source": [
        "Anyway, let's go into the equations\n",
        "\n",
        "$$Drift = \\mu - \\frac{\\sigma^2}{2}$$\n",
        "\n",
        "$$Volatility = \\sigma \\cdot \\mathcal{N(0, 1)}$$\n",
        "\n",
        "$$r = Drift - Volatility $$\n",
        "\n",
        "$$S_t = S_{t-1}\\cdot e^{(\\mu - \\frac{\\sigma}{2}) + \\sigma \\cdot \\mathcal{N(0, 1)}}$$\n",
        "\n",
        "The $\\frac{1}{2}$ in the Drift is because past returns are eroded in the future. The volatility is the historical volatility multiplied by a Normal distribution. Like Gaussian beams in LHC."
      ]
    },
    {
      "cell_type": "code",
      "metadata": {
        "id": "kcKG7ImOF8rj",
        "outputId": "cf49634f-6708-4d63-e4ee-d6be5e1f4806",
        "colab": {
          "base_uri": "https://localhost:8080/",
          "height": 214
        }
      },
      "source": [
        "u = day_return.mean()\n",
        "var = day_return.var()\n",
        "\n",
        "stdev = day_return.std()\n",
        "\n",
        "days = 60\n",
        "iterations = 100\n",
        "\n",
        "drift = u - 0.5 * var**2\n",
        "\n",
        "random_returns = norm.ppf(np.random.rand(days, iterations))\n",
        "\n",
        "future_returns = np.exp(drift + stdev * random_returns)\n",
        "\n",
        "# And now generate the curves\n",
        "\n",
        "curves = np.zeros_like(future_returns)\n",
        "\n",
        "curves[0, :] = data.iloc[-1][\"Adj Close\"]\n",
        "\n",
        "for t in range(1, iterations):\n",
        "    curves[t] = curves[t-1] * future_returns[t]\n",
        "\n"
      ],
      "execution_count": 60,
      "outputs": [
        {
          "output_type": "error",
          "ename": "IndexError",
          "evalue": "ignored",
          "traceback": [
            "\u001b[0;31m---------------------------------------------------------------------------\u001b[0m",
            "\u001b[0;31mIndexError\u001b[0m                                Traceback (most recent call last)",
            "\u001b[0;32m<ipython-input-60-0c01c3603c5c>\u001b[0m in \u001b[0;36m<module>\u001b[0;34m()\u001b[0m\n\u001b[1;32m     20\u001b[0m \u001b[0;34m\u001b[0m\u001b[0m\n\u001b[1;32m     21\u001b[0m \u001b[0;32mfor\u001b[0m \u001b[0mt\u001b[0m \u001b[0;32min\u001b[0m \u001b[0mrange\u001b[0m\u001b[0;34m(\u001b[0m\u001b[0;36m1\u001b[0m\u001b[0;34m,\u001b[0m \u001b[0miterations\u001b[0m\u001b[0;34m)\u001b[0m\u001b[0;34m:\u001b[0m\u001b[0;34m\u001b[0m\u001b[0;34m\u001b[0m\u001b[0m\n\u001b[0;32m---> 22\u001b[0;31m     \u001b[0mcurves\u001b[0m\u001b[0;34m[\u001b[0m\u001b[0mt\u001b[0m\u001b[0;34m]\u001b[0m \u001b[0;34m=\u001b[0m \u001b[0mcurves\u001b[0m\u001b[0;34m[\u001b[0m\u001b[0mt\u001b[0m\u001b[0;34m-\u001b[0m\u001b[0;36m1\u001b[0m\u001b[0;34m]\u001b[0m \u001b[0;34m*\u001b[0m \u001b[0mfuture_returns\u001b[0m\u001b[0;34m[\u001b[0m\u001b[0mt\u001b[0m\u001b[0;34m]\u001b[0m\u001b[0;34m\u001b[0m\u001b[0;34m\u001b[0m\u001b[0m\n\u001b[0m\u001b[1;32m     23\u001b[0m \u001b[0;34m\u001b[0m\u001b[0m\n",
            "\u001b[0;31mIndexError\u001b[0m: index 60 is out of bounds for axis 0 with size 60"
          ]
        }
      ]
    },
    {
      "cell_type": "code",
      "metadata": {
        "id": "WqgumT6pJNad",
        "outputId": "71105b55-536b-4859-d8cf-d9290621c3d8",
        "colab": {
          "base_uri": "https://localhost:8080/"
        }
      },
      "source": [
        "curves"
      ],
      "execution_count": 58,
      "outputs": [
        {
          "output_type": "execute_result",
          "data": {
            "text/plain": [
              "array([[3756.07006836, 3756.07006836, 3756.07006836, ..., 3756.07006836,\n",
              "        3756.07006836, 3756.07006836],\n",
              "       [3721.45114338, 3778.42474547, 3764.55178387, ..., 3772.27950205,\n",
              "        3757.54499581, 3749.58931953],\n",
              "       [3719.47268222, 3736.9373428 , 3788.2509641 , ..., 3762.04928286,\n",
              "        3825.17316343, 3740.01395186],\n",
              "       ...,\n",
              "       [3891.01818081, 3858.67327397, 4807.0313498 , ..., 4282.78752499,\n",
              "        3860.89380216, 3416.61921132],\n",
              "       [3841.51449152, 3901.00674136, 4754.40341686, ..., 4327.15907513,\n",
              "        3820.39317279, 3433.65268695],\n",
              "       [3845.84853007, 3866.62698979, 4787.67020466, ..., 4310.63376324,\n",
              "        3829.19843111, 3417.50731991]])"
            ]
          },
          "metadata": {
            "tags": []
          },
          "execution_count": 58
        }
      ]
    }
  ]
}